{
 "cells": [
  {
   "cell_type": "code",
   "execution_count": 1,
   "metadata": {},
   "outputs": [],
   "source": [
    "import pickle\n",
    "import pandas as pd\n",
    "import numpy as np"
   ]
  },
  {
   "cell_type": "code",
   "execution_count": 61,
   "metadata": {},
   "outputs": [],
   "source": [
    "PATH='/USERS/d8182103/firstimpression'\n",
    "setname=['V1_train','V1_test','V1_vali','V2_train','V2_test','V2_vali']\n",
    "textpaths = [ np.NaN,\n",
    "              np.NaN,\n",
    "              np.NaN,\n",
    "             '/USERS/d8182103/firstimpressionV2/train/transcription_training.pkl',\n",
    "             '/USERS/d8182103/firstimpressionV2/test/transcription_test.pkl',\n",
    "             '/USERS/d8182103/firstimpressionV2/vali/transcription_validation.pkl']\n",
    "labelpaths = ['/USERS/d8182103/firstimpressionV1/train/training_gt.csv',\n",
    "               np.NaN,\n",
    "              '/USERS/d8182103/firstimpressionV1/vali/validation_gt.csv',\n",
    "              '/USERS/d8182103/firstimpressionV2/train/annotation_training.pkl',\n",
    "              '/USERS/d8182103/firstimpressionV2/test/annotation_test.pkl',\n",
    "              '/USERS/d8182103/firstimpressionV2/vali/annotation_validation.pkl',]\n",
    "dics = {'textpath':textpaths,'labelpath':labelpaths}\n",
    "path_df = pd.DataFrame(dics,index=setname,columns=['textpath','labelpath'])"
   ]
  },
  {
   "cell_type": "code",
   "execution_count": 2,
   "metadata": {},
   "outputs": [],
   "source": [
    "def read_pickleV2(path):\n",
    "    with open(path, 'rb') as f:\n",
    "        data = pickle.load(f,encoding='iso-8859-1')\n",
    "    return data"
   ]
  },
  {
   "cell_type": "code",
   "execution_count": 4,
   "metadata": {},
   "outputs": [],
   "source": [
    "dic = read_pickleV2('/USERS/d8182103/firstimpressionV2/train/transcription_training.pkl')"
   ]
  },
  {
   "cell_type": "code",
   "execution_count": 6,
   "metadata": {},
   "outputs": [
    {
     "data": {
      "text/plain": [
       "''"
      ]
     },
     "execution_count": 6,
     "metadata": {},
     "output_type": "execute_result"
    }
   ],
   "source": [
    "dic['iYVJt41_q7M.002.mp4']"
   ]
  },
  {
   "cell_type": "code",
   "execution_count": 129,
   "metadata": {},
   "outputs": [],
   "source": [
    "def read_pickleV2(path):\n",
    "    with open(path, 'rb') as f:\n",
    "        data = pickle.load(f,encoding='iso-8859-1')\n",
    "    return data\n",
    "def makecsvV2(textpath,labelpath):\n",
    "    text = read_pickleV2(textpath)\n",
    "    label = read_pickleV2(labelpath)\n",
    "    path = '/'.join(labelpath.split('/')[:-1])\n",
    "    extraversion=[]\n",
    "    neuroticism=[]\n",
    "    agreeableness=[]\n",
    "    conscientiousness=[]\n",
    "    interview=[]\n",
    "    openness=[]\n",
    "    videoname=[]\n",
    "    speech=[]\n",
    "    for key in label['extraversion']:\n",
    "        extraversion.append(label['extraversion'][key])\n",
    "        neuroticism.append(label['neuroticism'][key])\n",
    "        agreeableness.append(label['agreeableness'][key])\n",
    "        conscientiousness.append(label['conscientiousness'][key])\n",
    "        interview.append(label['interview'][key])\n",
    "        openness.append(label['openness'][key])\n",
    "        videoname.append(key)\n",
    "        speech.append(text[key])\n",
    "\n",
    "    dics = {\"video\":videoname,\n",
    "            \"ope\": openness,\n",
    "            \"con\": conscientiousness,\n",
    "            \"ext\": extraversion,\n",
    "            \"agr\": agreeableness,\n",
    "            \"neu\": neuroticism,\n",
    "            \"job\": interview,\n",
    "            'text':speech\n",
    "           }\n",
    "    my_dtype={\"video\":'object',\"ope\":'float32',\"con\":'float32',\"ext\":'float32',\"agr\":'float32',\"neu\":'float32',\"job\":'float32'}\n",
    "    df = pd.DataFrame(dics,\n",
    "                      columns=[\"video\",\"ope\",\"con\",\"ext\",\"agr\",\"neu\",\"job\",'text'])\n",
    "    data_info_path = path+'/text_and_labels.csv'\n",
    "    df.to_csv(data_info_path,index=False)\n",
    "    print('saved',data_info_path)\n",
    "    \n",
    "def makecsvV1(labelpath):\n",
    "    path = '/'.join(labelpath.split('/')[:-1])\n",
    "    with open(labelpath, 'rb') as f:\n",
    "        lines = f.readlines()\n",
    "    extraversion=[]\n",
    "    neuroticism=[]\n",
    "    agreeableness=[]\n",
    "    conscientiousness=[]\n",
    "    openness=[]\n",
    "    videoname=[]\n",
    "    for l in lines[1:]:\n",
    "        info = l.decode(\"utf-8\")[:-2].split(',')\n",
    "        videoname.append(info[0])\n",
    "        extraversion.append(info[1])\n",
    "        agreeableness.append(info[2])\n",
    "        conscientiousness.append(info[3])\n",
    "        neuroticism.append(info[4])\n",
    "        openness.append(info[5])\n",
    "    dics = {\"video\":videoname,\n",
    "            \"ope\": openness,\n",
    "            \"con\": conscientiousness,\n",
    "            \"ext\": extraversion,\n",
    "            \"agr\": agreeableness,\n",
    "            \"neu\": neuroticism,\n",
    "           }\n",
    "    my_dtype={\"video\":'object',\"ope\":'float32',\"con\":'float32',\"ext\":'float32',\"agr\":'float32',\"neu\":'float32'}\n",
    "    df = pd.DataFrame(dics, columns=[\"video\",\"ope\",\"con\",\"ext\",\"agr\",\"neu\"])\n",
    "    data_info_path = path+'/text_and_labels.csv'\n",
    "    df.to_csv(data_info_path,index=False)\n",
    "    print('saved',data_info_path)"
   ]
  },
  {
   "cell_type": "code",
   "execution_count": 120,
   "metadata": {},
   "outputs": [
    {
     "name": "stdout",
     "output_type": "stream",
     "text": [
      "saved /USERS/d8182103/firstimpressionV2/train/text_and_labels.csv\n",
      "saved /USERS/d8182103/firstimpressionV2/test/text_and_labels.csv\n",
      "saved /USERS/d8182103/firstimpressionV2/val/text_and_labels.csv\n"
     ]
    }
   ],
   "source": [
    "for t,p in zip(path_df.loc[['V2_train','V2_test','V2_vali'],'textpath'],path_df.loc[['V2_train','V2_test','V2_vali'],'labelpath']):\n",
    "    makecsvV2(t,p)"
   ]
  },
  {
   "cell_type": "code",
   "execution_count": 131,
   "metadata": {},
   "outputs": [
    {
     "name": "stdout",
     "output_type": "stream",
     "text": [
      "saved /USERS/d8182103/firstimpressionV1/train/text_and_labels.csv\n",
      "saved /USERS/d8182103/firstimpressionV1/vali/text_and_labels.csv\n"
     ]
    }
   ],
   "source": [
    "for p in path_df.loc[['V1_train','V1_vali'],'labelpath']:\n",
    "    makecsvV1(p)"
   ]
  }
 ],
 "metadata": {
  "kernelspec": {
   "display_name": "Python 3",
   "language": "python",
   "name": "python3"
  },
  "language_info": {
   "codemirror_mode": {
    "name": "ipython",
    "version": 3
   },
   "file_extension": ".py",
   "mimetype": "text/x-python",
   "name": "python",
   "nbconvert_exporter": "python",
   "pygments_lexer": "ipython3",
   "version": "3.6.4"
  }
 },
 "nbformat": 4,
 "nbformat_minor": 2
}
