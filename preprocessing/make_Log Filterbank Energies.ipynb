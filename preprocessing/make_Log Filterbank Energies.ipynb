{
 "cells": [
  {
   "cell_type": "code",
   "execution_count": 1,
   "metadata": {},
   "outputs": [
    {
     "name": "stderr",
     "output_type": "stream",
     "text": [
      "/opt/conda/lib/python3.6/importlib/_bootstrap.py:219: RuntimeWarning: compiletime version 3.5 of module 'tensorflow.python.framework.fast_tensor_util' does not match runtime version 3.6\n",
      "  return f(*args, **kwds)\n"
     ]
    }
   ],
   "source": [
    "import pandas as pd\n",
    "import numpy as np\n",
    "import math\n",
    "import tensorflow as tf\n",
    "from tfrecorder import TFrecorder\n",
    "import struct\n",
    "import os\n",
    "PATH = '/USERS/d8182103/'\n",
    "tfr = TFrecorder()"
   ]
  },
  {
   "cell_type": "code",
   "execution_count": 2,
   "metadata": {},
   "outputs": [],
   "source": [
    "def path_list(dataset='V2',setname='train',feature_type = 'mfcc'):\n",
    "    audio_feature_path = '%s/firstimpression%s/%s/%s/' %(PATH, dataset, feature_type, setname)\n",
    "    print(audio_feature_path)\n",
    "    video_list = []\n",
    "    path_list = []\n",
    "    for folder in os.listdir(audio_feature_path):\n",
    "        if '80_' in folder:\n",
    "            for feature in os.listdir('%s/%s/' %(audio_feature_path,folder)):\n",
    "                if '.htk' in feature:\n",
    "                    video_list.append(feature.split('.htk')[0])\n",
    "                    path_list.append('%s/%s/%s' %(audio_feature_path,folder,feature))\n",
    "    path_df = pd.DataFrame({'video':video_list,'path':path_list},columns=['video','path'])\n",
    "    return path_df.set_index('video')"
   ]
  },
  {
   "cell_type": "code",
   "execution_count": 55,
   "metadata": {},
   "outputs": [],
   "source": [
    "def path_wav_list(dataset='V2',setname='train',feature_type = '.wav'):\n",
    "    audio_feature_path = '%s/firstimpression%s/%s/' %(PATH, dataset, setname)\n",
    "    print(audio_feature_path)\n",
    "    wav_list = []\n",
    "    name_list = []\n",
    "    for folder in os.listdir(audio_feature_path):\n",
    "        if '80_' in folder:\n",
    "            for feature in os.listdir('%s/%s/' %(audio_feature_path,folder)):\n",
    "                if '.wav' in feature:\n",
    "                    name_list.append(feature.split('.wav')[0])\n",
    "                    wav_list.append('%s/%s/%s' %(audio_feature_path,folder,feature))\n",
    "    path_df = pd.DataFrame({'wav':name_list,'path':wav_list},columns=['wav','path'])\n",
    "    return path_df"
   ]
  },
  {
   "cell_type": "code",
   "execution_count": 56,
   "metadata": {},
   "outputs": [
    {
     "name": "stdout",
     "output_type": "stream",
     "text": [
      "/USERS/d8182103//firstimpressionV2/test/\n"
     ]
    }
   ],
   "source": [
    "wav_list = path_wav_list(dataset='V2',setname='test')"
   ]
  },
  {
   "cell_type": "code",
   "execution_count": 64,
   "metadata": {},
   "outputs": [
    {
     "data": {
      "text/plain": [
       "'/USERS/d8182103//firstimpressionV2/test//test80_11/2SzC9dm4Yy4.005.wav'"
      ]
     },
     "execution_count": 64,
     "metadata": {},
     "output_type": "execute_result"
    }
   ],
   "source": [
    "wav_list.iloc[0]['path']"
   ]
  },
  {
   "cell_type": "code",
   "execution_count": 1,
   "metadata": {},
   "outputs": [],
   "source": []
  },
  {
   "cell_type": "code",
   "execution_count": 2,
   "metadata": {},
   "outputs": [],
   "source": [
    "fs, signal = wav.read('测试.wav')"
   ]
  },
  {
   "cell_type": "code",
   "execution_count": 3,
   "metadata": {},
   "outputs": [
    {
     "name": "stdout",
     "output_type": "stream",
     "text": [
      "mfcc(mean + variance normalized) feature shape= (4517, 13)\n",
      "mfcc feature cube shape= (4517, 13, 3)\n"
     ]
    }
   ],
   "source": [
    "############# Extract MFCC features #############\n",
    "mfcc = speechpy.feature.mfcc(signal, sampling_frequency=fs, frame_length=0.020, frame_stride=0.01,\n",
    "             num_filters=40, fft_length=512, low_frequency=0, high_frequency=None)\n",
    "mfcc_cmvn = speechpy.processing.cmvnw(mfcc,win_size=301,variance_normalization=True)\n",
    "print('mfcc(mean + variance normalized) feature shape=', mfcc_cmvn.shape)\n",
    "\n",
    "mfcc_feature_cube = speechpy.feature.extract_derivative_feature(mfcc)\n",
    "print('mfcc feature cube shape=', mfcc_feature_cube.shape)"
   ]
  },
  {
   "cell_type": "code",
   "execution_count": null,
   "metadata": {},
   "outputs": [],
   "source": []
  },
  {
   "cell_type": "code",
   "execution_count": 49,
   "metadata": {},
   "outputs": [],
   "source": [
    "import scipy.io.wavfile as wav\n",
    "import numpy as np\n",
    "import speechpy\n",
    "import os\n",
    "\n",
    "def fb_extractor(file_name):\n",
    "    fs, signal = wav.read(file_name)\n",
    "    ############# Extract logenergy features #############\n",
    "    logenergy = speechpy.feature.lmfe(signal, sampling_frequency=fs, frame_length=0.020, frame_stride=0.01,\n",
    "                 num_filters=40, fft_length=512, low_frequency=0, high_frequency=None)\n",
    "    logenergy_feature_cube = speechpy.feature.extract_derivative_feature(logenergy)\n",
    "    logenergy_feature_cube_cmvn = speechpy.processing.cmvn(logenergy_feature_cube.reshape(-1,120), variance_normalization=True)\n",
    "    print('logenergy_feature_cube_cmvn shape=', logenergy_feature_cube_cmvn.shape)\n",
    "    return logenergy, logenergy_feature_cube_cmvn"
   ]
  },
  {
   "cell_type": "code",
   "execution_count": 33,
   "metadata": {},
   "outputs": [],
   "source": [
    "fs, signal = wav.read('/USERS/d8182103//firstimpressionV2/test//test80_11/RF3JnDmv8WY.005.wav')"
   ]
  },
  {
   "cell_type": "code",
   "execution_count": 34,
   "metadata": {},
   "outputs": [
    {
     "data": {
      "text/plain": [
       "(244832,)"
      ]
     },
     "execution_count": 34,
     "metadata": {},
     "output_type": "execute_result"
    }
   ],
   "source": [
    "signal.shape"
   ]
  },
  {
   "cell_type": "code",
   "execution_count": 31,
   "metadata": {},
   "outputs": [
    {
     "data": {
      "text/plain": [
       "15.302"
      ]
     },
     "execution_count": 31,
     "metadata": {},
     "output_type": "execute_result"
    }
   ],
   "source": [
    "244832/16000"
   ]
  },
  {
   "cell_type": "code",
   "execution_count": 50,
   "metadata": {
    "scrolled": true
   },
   "outputs": [
    {
     "name": "stdout",
     "output_type": "stream",
     "text": [
      "logenergy_feature_cube_cmvn shape= (1529, 120)\n"
     ]
    },
    {
     "data": {
      "text/plain": [
       "3.5565862683784391e-16"
      ]
     },
     "execution_count": 50,
     "metadata": {},
     "output_type": "execute_result"
    }
   ],
   "source": [
    "fb_extractor('/USERS/d8182103//firstimpressionV2/test//test80_11/RF3JnDmv8WY.005.wav')[1].mean()"
   ]
  },
  {
   "cell_type": "code",
   "execution_count": 35,
   "metadata": {
    "scrolled": true
   },
   "outputs": [
    {
     "name": "stdout",
     "output_type": "stream",
     "text": [
      "/USERS/d8182103//firstimpressionV1/train/\n",
      "V1 train\n",
      "/USERS/d8182103//firstimpressionV1/vali/\n",
      "V1 vali\n",
      "/USERS/d8182103//firstimpressionV2/train/\n",
      "V2 train\n",
      "/USERS/d8182103//firstimpressionV2/vali/\n",
      "V2 vali\n",
      "/USERS/d8182103//firstimpressionV2/test/\n",
      "V2 test\n"
     ]
    }
   ],
   "source": [
    "for dataset in ['V1','V2']:\n",
    "    for setname in ['train','vali']:\n",
    "        make_mfcc_list(dataset,setname)\n",
    "        print(dataset,setname)\n",
    "make_mfcc_list('V2','test')\n",
    "print('V2','test')"
   ]
  }
 ],
 "metadata": {
  "kernelspec": {
   "display_name": "Python 3",
   "language": "python",
   "name": "python3"
  },
  "language_info": {
   "codemirror_mode": {
    "name": "ipython",
    "version": 3
   },
   "file_extension": ".py",
   "mimetype": "text/x-python",
   "name": "python",
   "nbconvert_exporter": "python",
   "pygments_lexer": "ipython3",
   "version": "3.6.4"
  }
 },
 "nbformat": 4,
 "nbformat_minor": 2
}
